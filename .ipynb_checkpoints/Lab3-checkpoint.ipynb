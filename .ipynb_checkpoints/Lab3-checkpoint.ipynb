{
 "cells": [
  {
   "cell_type": "markdown",
   "metadata": {},
   "source": [
    "# Classification and Clustering Exercise"
   ]
  },
  {
   "cell_type": "code",
   "execution_count": 42,
   "metadata": {},
   "outputs": [
    {
     "name": "stderr",
     "output_type": "stream",
     "text": [
      "/Library/Python/2.7/site-packages/sklearn/cross_validation.py:41: DeprecationWarning: This module was deprecated in version 0.18 in favor of the model_selection module into which all the refactored classes and functions are moved. Also note that the interface of the new CV iterators are different from that of this module. This module will be removed in 0.20.\n",
      "  \"This module will be removed in 0.20.\", DeprecationWarning)\n"
     ]
    }
   ],
   "source": [
    "import pandas as pd\n",
    "from matplotlib import pyplot as plt\n",
    "import seaborn as sns\n",
    "import numpy as np\n",
    "\n",
    "from sklearn.linear_model import LogisticRegression\n",
    "from sklearn.svm import SVC, LinearSVC\n",
    "from sklearn.ensemble import RandomForestClassifier\n",
    "from sklearn.neighbors import KNeighborsClassifier\n",
    "from sklearn.naive_bayes import GaussianNB\n",
    "from sklearn.linear_model import Perceptron\n",
    "from sklearn.linear_model import SGDClassifier\n",
    "from sklearn.tree import DecisionTreeClassifier\n",
    "from sklearn.cluster import KMeans\n",
    "\n",
    "\n",
    "from sklearn.metrics import confusion_matrix\n",
    "from sklearn.model_selection import train_test_split\n",
    "from sklearn.metrics import accuracy_score\n",
    "from sklearn.decomposition import PCA\n",
    "from sklearn.preprocessing import StandardScaler\n",
    "from sklearn.cross_validation import KFold, cross_val_score"
   ]
  },
  {
   "cell_type": "code",
   "execution_count": 3,
   "metadata": {},
   "outputs": [],
   "source": [
    "#Importing the training and test dataset\n",
    "df_train = pd.read_csv('Training.csv', sep=';')\n",
    "df_test = pd.read_csv('Validation.csv', sep=';')"
   ]
  },
  {
   "cell_type": "code",
   "execution_count": 4,
   "metadata": {},
   "outputs": [
    {
     "data": {
      "text/html": [
       "<div>\n",
       "<style>\n",
       "    .dataframe thead tr:only-child th {\n",
       "        text-align: right;\n",
       "    }\n",
       "\n",
       "    .dataframe thead th {\n",
       "        text-align: left;\n",
       "    }\n",
       "\n",
       "    .dataframe tbody tr th {\n",
       "        vertical-align: top;\n",
       "    }\n",
       "</style>\n",
       "<table border=\"1\" class=\"dataframe\">\n",
       "  <thead>\n",
       "    <tr style=\"text-align: right;\">\n",
       "      <th></th>\n",
       "      <th>v33</th>\n",
       "      <th>v76</th>\n",
       "      <th>v12</th>\n",
       "      <th>v68</th>\n",
       "      <th>v50</th>\n",
       "      <th>v7</th>\n",
       "      <th>v70</th>\n",
       "      <th>v55</th>\n",
       "      <th>v20</th>\n",
       "      <th>v24</th>\n",
       "      <th>...</th>\n",
       "      <th>v28</th>\n",
       "      <th>v99</th>\n",
       "      <th>v95</th>\n",
       "      <th>v42</th>\n",
       "      <th>v53</th>\n",
       "      <th>v85</th>\n",
       "      <th>v9</th>\n",
       "      <th>v84</th>\n",
       "      <th>v44</th>\n",
       "      <th>classlabel</th>\n",
       "    </tr>\n",
       "  </thead>\n",
       "  <tbody>\n",
       "    <tr>\n",
       "      <th>0</th>\n",
       "      <td>v</td>\n",
       "      <td>g</td>\n",
       "      <td>17,92</td>\n",
       "      <td>f</td>\n",
       "      <td>1,75</td>\n",
       "      <td>a</td>\n",
       "      <td>t</td>\n",
       "      <td>80.0</td>\n",
       "      <td>0,000054</td>\n",
       "      <td>1</td>\n",
       "      <td>...</td>\n",
       "      <td>t</td>\n",
       "      <td>c</td>\n",
       "      <td>t</td>\n",
       "      <td>800000.0</td>\n",
       "      <td>5</td>\n",
       "      <td>g</td>\n",
       "      <td>0</td>\n",
       "      <td>f</td>\n",
       "      <td>f</td>\n",
       "      <td>no.</td>\n",
       "    </tr>\n",
       "    <tr>\n",
       "      <th>1</th>\n",
       "      <td>v</td>\n",
       "      <td>s</td>\n",
       "      <td>16,92</td>\n",
       "      <td>f</td>\n",
       "      <td>0,29</td>\n",
       "      <td>b</td>\n",
       "      <td>f</td>\n",
       "      <td>200.0</td>\n",
       "      <td>0,0000335</td>\n",
       "      <td>0</td>\n",
       "      <td>...</td>\n",
       "      <td>f</td>\n",
       "      <td>k</td>\n",
       "      <td>NaN</td>\n",
       "      <td>2000000.0</td>\n",
       "      <td>0</td>\n",
       "      <td>p</td>\n",
       "      <td>1</td>\n",
       "      <td>f</td>\n",
       "      <td>f</td>\n",
       "      <td>no.</td>\n",
       "    </tr>\n",
       "    <tr>\n",
       "      <th>2</th>\n",
       "      <td>ff</td>\n",
       "      <td>g</td>\n",
       "      <td>31,25</td>\n",
       "      <td>f</td>\n",
       "      <td>0</td>\n",
       "      <td>b</td>\n",
       "      <td>t</td>\n",
       "      <td>96.0</td>\n",
       "      <td>0,0001125</td>\n",
       "      <td>1</td>\n",
       "      <td>...</td>\n",
       "      <td>f</td>\n",
       "      <td>ff</td>\n",
       "      <td>t</td>\n",
       "      <td>960000.0</td>\n",
       "      <td>19</td>\n",
       "      <td>g</td>\n",
       "      <td>0</td>\n",
       "      <td>f</td>\n",
       "      <td>f</td>\n",
       "      <td>no.</td>\n",
       "    </tr>\n",
       "    <tr>\n",
       "      <th>3</th>\n",
       "      <td>o</td>\n",
       "      <td>g</td>\n",
       "      <td>48,17</td>\n",
       "      <td>f</td>\n",
       "      <td>0,335</td>\n",
       "      <td>a</td>\n",
       "      <td>f</td>\n",
       "      <td>0.0</td>\n",
       "      <td>0,0001335</td>\n",
       "      <td>0</td>\n",
       "      <td>...</td>\n",
       "      <td>f</td>\n",
       "      <td>i</td>\n",
       "      <td>NaN</td>\n",
       "      <td>0.0</td>\n",
       "      <td>120</td>\n",
       "      <td>g</td>\n",
       "      <td>1</td>\n",
       "      <td>f</td>\n",
       "      <td>f</td>\n",
       "      <td>no.</td>\n",
       "    </tr>\n",
       "    <tr>\n",
       "      <th>4</th>\n",
       "      <td>v</td>\n",
       "      <td>g</td>\n",
       "      <td>32,33</td>\n",
       "      <td>t</td>\n",
       "      <td>0,5</td>\n",
       "      <td>b</td>\n",
       "      <td>f</td>\n",
       "      <td>232.0</td>\n",
       "      <td>0,00035</td>\n",
       "      <td>0</td>\n",
       "      <td>...</td>\n",
       "      <td>t</td>\n",
       "      <td>k</td>\n",
       "      <td>f</td>\n",
       "      <td>2320000.0</td>\n",
       "      <td>0</td>\n",
       "      <td>g</td>\n",
       "      <td>1</td>\n",
       "      <td>f</td>\n",
       "      <td>f</td>\n",
       "      <td>no.</td>\n",
       "    </tr>\n",
       "  </tbody>\n",
       "</table>\n",
       "<p>5 rows × 22 columns</p>\n",
       "</div>"
      ],
      "text/plain": [
       "  v33 v76    v12 v68    v50 v7 v70    v55        v20  v24    ...     v28 v99  \\\n",
       "0   v   g  17,92   f   1,75  a   t   80.0   0,000054    1    ...       t   c   \n",
       "1   v   s  16,92   f   0,29  b   f  200.0  0,0000335    0    ...       f   k   \n",
       "2  ff   g  31,25   f      0  b   t   96.0  0,0001125    1    ...       f  ff   \n",
       "3   o   g  48,17   f  0,335  a   f    0.0  0,0001335    0    ...       f   i   \n",
       "4   v   g  32,33   t    0,5  b   f  232.0    0,00035    0    ...       t   k   \n",
       "\n",
       "   v95        v42  v53  v85  v9 v84  v44 classlabel  \n",
       "0    t   800000.0    5    g   0   f    f        no.  \n",
       "1  NaN  2000000.0    0    p   1   f    f        no.  \n",
       "2    t   960000.0   19    g   0   f    f        no.  \n",
       "3  NaN        0.0  120    g   1   f    f        no.  \n",
       "4    f  2320000.0    0    g   1   f    f        no.  \n",
       "\n",
       "[5 rows x 22 columns]"
      ]
     },
     "execution_count": 4,
     "metadata": {},
     "output_type": "execute_result"
    }
   ],
   "source": [
    "# View the current format of the data\n",
    "df_train.head()"
   ]
  },
  {
   "cell_type": "code",
   "execution_count": 5,
   "metadata": {},
   "outputs": [],
   "source": [
    "columns = df_train.columns\n",
    "for column in columns:\n",
    "    try:\n",
    "        f_val = float(str(df_train[column][0]).replace(',','.'))\n",
    "        if type(f_val) is float:\n",
    "            df_train[column] = df_train[column].apply(lambda x: float(str(x).replace(',','.')))\n",
    "            df_test[column] = df_test[column].apply(lambda x: float(str(x).replace(',','.')))\n",
    "    except Exception as e:\n",
    "        pass"
   ]
  },
  {
   "cell_type": "code",
   "execution_count": 6,
   "metadata": {},
   "outputs": [
    {
     "data": {
      "text/html": [
       "<div>\n",
       "<style>\n",
       "    .dataframe thead tr:only-child th {\n",
       "        text-align: right;\n",
       "    }\n",
       "\n",
       "    .dataframe thead th {\n",
       "        text-align: left;\n",
       "    }\n",
       "\n",
       "    .dataframe tbody tr th {\n",
       "        vertical-align: top;\n",
       "    }\n",
       "</style>\n",
       "<table border=\"1\" class=\"dataframe\">\n",
       "  <thead>\n",
       "    <tr style=\"text-align: right;\">\n",
       "      <th></th>\n",
       "      <th>v33</th>\n",
       "      <th>v76</th>\n",
       "      <th>v12</th>\n",
       "      <th>v68</th>\n",
       "      <th>v50</th>\n",
       "      <th>v7</th>\n",
       "      <th>v70</th>\n",
       "      <th>v55</th>\n",
       "      <th>v20</th>\n",
       "      <th>v24</th>\n",
       "      <th>...</th>\n",
       "      <th>v28</th>\n",
       "      <th>v99</th>\n",
       "      <th>v95</th>\n",
       "      <th>v42</th>\n",
       "      <th>v53</th>\n",
       "      <th>v85</th>\n",
       "      <th>v9</th>\n",
       "      <th>v84</th>\n",
       "      <th>v44</th>\n",
       "      <th>classlabel</th>\n",
       "    </tr>\n",
       "  </thead>\n",
       "  <tbody>\n",
       "    <tr>\n",
       "      <th>0</th>\n",
       "      <td>v</td>\n",
       "      <td>g</td>\n",
       "      <td>17.92</td>\n",
       "      <td>f</td>\n",
       "      <td>1.750</td>\n",
       "      <td>a</td>\n",
       "      <td>t</td>\n",
       "      <td>80.0</td>\n",
       "      <td>0.000054</td>\n",
       "      <td>1.0</td>\n",
       "      <td>...</td>\n",
       "      <td>t</td>\n",
       "      <td>c</td>\n",
       "      <td>t</td>\n",
       "      <td>800000.0</td>\n",
       "      <td>5.0</td>\n",
       "      <td>g</td>\n",
       "      <td>0.0</td>\n",
       "      <td>f</td>\n",
       "      <td>f</td>\n",
       "      <td>no.</td>\n",
       "    </tr>\n",
       "    <tr>\n",
       "      <th>1</th>\n",
       "      <td>v</td>\n",
       "      <td>s</td>\n",
       "      <td>16.92</td>\n",
       "      <td>f</td>\n",
       "      <td>0.290</td>\n",
       "      <td>b</td>\n",
       "      <td>f</td>\n",
       "      <td>200.0</td>\n",
       "      <td>0.000034</td>\n",
       "      <td>0.0</td>\n",
       "      <td>...</td>\n",
       "      <td>f</td>\n",
       "      <td>k</td>\n",
       "      <td>NaN</td>\n",
       "      <td>2000000.0</td>\n",
       "      <td>0.0</td>\n",
       "      <td>p</td>\n",
       "      <td>1.0</td>\n",
       "      <td>f</td>\n",
       "      <td>f</td>\n",
       "      <td>no.</td>\n",
       "    </tr>\n",
       "    <tr>\n",
       "      <th>2</th>\n",
       "      <td>ff</td>\n",
       "      <td>g</td>\n",
       "      <td>31.25</td>\n",
       "      <td>f</td>\n",
       "      <td>0.000</td>\n",
       "      <td>b</td>\n",
       "      <td>t</td>\n",
       "      <td>96.0</td>\n",
       "      <td>0.000112</td>\n",
       "      <td>1.0</td>\n",
       "      <td>...</td>\n",
       "      <td>f</td>\n",
       "      <td>ff</td>\n",
       "      <td>t</td>\n",
       "      <td>960000.0</td>\n",
       "      <td>19.0</td>\n",
       "      <td>g</td>\n",
       "      <td>0.0</td>\n",
       "      <td>f</td>\n",
       "      <td>f</td>\n",
       "      <td>no.</td>\n",
       "    </tr>\n",
       "    <tr>\n",
       "      <th>3</th>\n",
       "      <td>o</td>\n",
       "      <td>g</td>\n",
       "      <td>48.17</td>\n",
       "      <td>f</td>\n",
       "      <td>0.335</td>\n",
       "      <td>a</td>\n",
       "      <td>f</td>\n",
       "      <td>0.0</td>\n",
       "      <td>0.000133</td>\n",
       "      <td>0.0</td>\n",
       "      <td>...</td>\n",
       "      <td>f</td>\n",
       "      <td>i</td>\n",
       "      <td>NaN</td>\n",
       "      <td>0.0</td>\n",
       "      <td>120.0</td>\n",
       "      <td>g</td>\n",
       "      <td>1.0</td>\n",
       "      <td>f</td>\n",
       "      <td>f</td>\n",
       "      <td>no.</td>\n",
       "    </tr>\n",
       "    <tr>\n",
       "      <th>4</th>\n",
       "      <td>v</td>\n",
       "      <td>g</td>\n",
       "      <td>32.33</td>\n",
       "      <td>t</td>\n",
       "      <td>0.500</td>\n",
       "      <td>b</td>\n",
       "      <td>f</td>\n",
       "      <td>232.0</td>\n",
       "      <td>0.000350</td>\n",
       "      <td>0.0</td>\n",
       "      <td>...</td>\n",
       "      <td>t</td>\n",
       "      <td>k</td>\n",
       "      <td>f</td>\n",
       "      <td>2320000.0</td>\n",
       "      <td>0.0</td>\n",
       "      <td>g</td>\n",
       "      <td>1.0</td>\n",
       "      <td>f</td>\n",
       "      <td>f</td>\n",
       "      <td>no.</td>\n",
       "    </tr>\n",
       "  </tbody>\n",
       "</table>\n",
       "<p>5 rows × 22 columns</p>\n",
       "</div>"
      ],
      "text/plain": [
       "  v33 v76    v12 v68    v50 v7 v70    v55       v20  v24    ...     v28  v99  \\\n",
       "0   v   g  17.92   f  1.750  a   t   80.0  0.000054  1.0    ...       t    c   \n",
       "1   v   s  16.92   f  0.290  b   f  200.0  0.000034  0.0    ...       f    k   \n",
       "2  ff   g  31.25   f  0.000  b   t   96.0  0.000112  1.0    ...       f   ff   \n",
       "3   o   g  48.17   f  0.335  a   f    0.0  0.000133  0.0    ...       f    i   \n",
       "4   v   g  32.33   t  0.500  b   f  232.0  0.000350  0.0    ...       t    k   \n",
       "\n",
       "   v95        v42    v53  v85   v9 v84  v44 classlabel  \n",
       "0    t   800000.0    5.0    g  0.0   f    f        no.  \n",
       "1  NaN  2000000.0    0.0    p  1.0   f    f        no.  \n",
       "2    t   960000.0   19.0    g  0.0   f    f        no.  \n",
       "3  NaN        0.0  120.0    g  1.0   f    f        no.  \n",
       "4    f  2320000.0    0.0    g  1.0   f    f        no.  \n",
       "\n",
       "[5 rows x 22 columns]"
      ]
     },
     "execution_count": 6,
     "metadata": {},
     "output_type": "execute_result"
    }
   ],
   "source": [
    "df_train.head()"
   ]
  },
  {
   "cell_type": "code",
   "execution_count": 7,
   "metadata": {},
   "outputs": [
    {
     "data": {
      "text/plain": [
       "v33            object\n",
       "v76            object\n",
       "v12           float64\n",
       "v68            object\n",
       "v50           float64\n",
       "v7             object\n",
       "v70            object\n",
       "v55           float64\n",
       "v20           float64\n",
       "v24           float64\n",
       "v32            object\n",
       "v97           float64\n",
       "v28            object\n",
       "v99            object\n",
       "v95            object\n",
       "v42           float64\n",
       "v53           float64\n",
       "v85            object\n",
       "v9            float64\n",
       "v84            object\n",
       "v44            object\n",
       "classlabel     object\n",
       "dtype: object"
      ]
     },
     "execution_count": 7,
     "metadata": {},
     "output_type": "execute_result"
    }
   ],
   "source": [
    "df_train.dtypes"
   ]
  },
  {
   "cell_type": "code",
   "execution_count": 8,
   "metadata": {},
   "outputs": [
    {
     "name": "stdout",
     "output_type": "stream",
     "text": [
      "     0                  1\n",
      "0  v32    {u'length': 64}\n",
      "1  v33    {u'length': 66}\n",
      "2  v95  {u'length': 2145}\n",
      "3  v99    {u'length': 66}\n",
      "4   v7    {u'length': 39}\n",
      "     0                 1\n",
      "0  v32    {u'length': 2}\n",
      "1  v33    {u'length': 3}\n",
      "2  v95  {u'length': 111}\n",
      "3  v99    {u'length': 3}\n",
      "4   v7    {u'length': 3}\n"
     ]
    }
   ],
   "source": [
    "categorical = df_train.dtypes[df_train.dtypes == \"object\"].index\n",
    "train_missing = {}\n",
    "test_missing = {}\n",
    "for c in categorical:\n",
    "    train_m = np.where(df_train[c].isnull() == True)\n",
    "    test_m = np.where(df_test[c].isnull() == True)\n",
    "    if len(train_m[0]) > 0:\n",
    "        train_missing[c] = {'length':len(train_m[0])}\n",
    "    if len(test_m[0]) > 0:\n",
    "        test_missing[c] = {'length':len(test_m[0])}\n",
    "\n",
    "print pd.DataFrame(train_missing.items()).head()\n",
    "print pd.DataFrame(test_missing.items()).head()"
   ]
  },
  {
   "cell_type": "code",
   "execution_count": 9,
   "metadata": {},
   "outputs": [
    {
     "name": "stdout",
     "output_type": "stream",
     "text": [
      "['v85', 'v99', 'v32', 'v33', 'v7']\n",
      "['v85', 'v99', 'v32', 'v33', 'v7']\n"
     ]
    }
   ],
   "source": [
    "del df_train['v95']\n",
    "del df_test['v95']\n",
    "\n",
    "categorical = df_train.dtypes[df_train.dtypes == \"object\"].index\n",
    "train_missing = {}\n",
    "test_missing = {}\n",
    "for c in categorical:\n",
    "    train_m = np.where(df_train[c].isnull() == True)\n",
    "    test_m = np.where(df_test[c].isnull() == True)\n",
    "    if len(train_m[0]) > 0:\n",
    "        train_missing[c] = {'length':len(train_m[0])}\n",
    "    if len(test_m[0]) > 0:\n",
    "        test_missing[c] = {'length':len(test_m[0])}\n",
    "print train_missing.keys()\n",
    "print test_missing.keys()"
   ]
  },
  {
   "cell_type": "code",
   "execution_count": 10,
   "metadata": {},
   "outputs": [
    {
     "name": "stdout",
     "output_type": "stream",
     "text": [
      "{'v85': 'g', 'v32': 'u', 'v99': 'c', 'v33': 'v', 'v7': 'b'}\n",
      "{'v85': 'g', 'v32': 'u', 'v99': 'c', 'v33': 'v', 'v7': 'b'}\n"
     ]
    }
   ],
   "source": [
    "mappings_train = {}\n",
    "mappings_test = {}\n",
    "for key in train_missing.keys():\n",
    "    mappings_train[key] = df_train[key].value_counts()._index[0]\n",
    "    mappings_test[key] = df_test[key].value_counts()._index[0]\n",
    "print mappings_train\n",
    "print mappings_test"
   ]
  },
  {
   "cell_type": "code",
   "execution_count": 11,
   "metadata": {},
   "outputs": [
    {
     "data": {
      "text/plain": [
       "[]"
      ]
     },
     "execution_count": 11,
     "metadata": {},
     "output_type": "execute_result"
    }
   ],
   "source": [
    "for k in mappings_train:\n",
    "    df_train[k].fillna(mappings_train[k], inplace=True)\n",
    "    df_test[k].fillna(mappings_train[k], inplace=True)\n",
    "\n",
    "categorical = df_train.dtypes[df_train.dtypes == \"object\"].index\n",
    "num_missing = {}\n",
    "for c in categorical:\n",
    "    missing = np.where(df_train[c].isnull() == True)\n",
    "    if len(missing[0]) > 0:\n",
    "        num_missing[c] = {'length':len(missing[0]), \"missing\":missing}\n",
    "num_missing.keys()\n"
   ]
  },
  {
   "cell_type": "code",
   "execution_count": 12,
   "metadata": {},
   "outputs": [
    {
     "name": "stdout",
     "output_type": "stream",
     "text": [
      "Index([u'v12', u'v55', u'v42'], dtype='object')\n",
      "Index([u'v12', u'v55', u'v42'], dtype='object')\n"
     ]
    }
   ],
   "source": [
    "train_any_nan_cols = df_train.columns[df_train.isnull().any()]\n",
    "test_any_nan_cols = df_test.columns[df_test.isnull().any()]\n",
    "print train_any_nan_cols \n",
    "print test_any_nan_cols"
   ]
  },
  {
   "cell_type": "code",
   "execution_count": 13,
   "metadata": {},
   "outputs": [
    {
     "name": "stdout",
     "output_type": "stream",
     "text": [
      "Index([], dtype='object')\n",
      "Index([], dtype='object')\n"
     ]
    }
   ],
   "source": [
    "for c in train_any_nan_cols:\n",
    "    df_train[c].fillna(df_train[c].mean(), inplace=True)\n",
    "    df_test[c].fillna(df_test[c].mean(), inplace=True)\n",
    "    \n",
    "train_any_nan_cols = df_train.columns[df_train.isnull().any()]\n",
    "test_any_nan_cols = df_test.columns[df_test.isnull().any()]\n",
    "print train_any_nan_cols \n",
    "print test_any_nan_cols"
   ]
  },
  {
   "cell_type": "code",
   "execution_count": 14,
   "metadata": {},
   "outputs": [
    {
     "data": {
      "text/html": [
       "<div>\n",
       "<style>\n",
       "    .dataframe thead tr:only-child th {\n",
       "        text-align: right;\n",
       "    }\n",
       "\n",
       "    .dataframe thead th {\n",
       "        text-align: left;\n",
       "    }\n",
       "\n",
       "    .dataframe tbody tr th {\n",
       "        vertical-align: top;\n",
       "    }\n",
       "</style>\n",
       "<table border=\"1\" class=\"dataframe\">\n",
       "  <thead>\n",
       "    <tr style=\"text-align: right;\">\n",
       "      <th></th>\n",
       "      <th>v33</th>\n",
       "      <th>v76</th>\n",
       "      <th>v12</th>\n",
       "      <th>v68</th>\n",
       "      <th>v50</th>\n",
       "      <th>v7</th>\n",
       "      <th>v70</th>\n",
       "      <th>v55</th>\n",
       "      <th>v20</th>\n",
       "      <th>v24</th>\n",
       "      <th>...</th>\n",
       "      <th>v97</th>\n",
       "      <th>v28</th>\n",
       "      <th>v99</th>\n",
       "      <th>v42</th>\n",
       "      <th>v53</th>\n",
       "      <th>v85</th>\n",
       "      <th>v9</th>\n",
       "      <th>v84</th>\n",
       "      <th>v44</th>\n",
       "      <th>classlabel</th>\n",
       "    </tr>\n",
       "  </thead>\n",
       "  <tbody>\n",
       "    <tr>\n",
       "      <th>0</th>\n",
       "      <td>v</td>\n",
       "      <td>g</td>\n",
       "      <td>17.92</td>\n",
       "      <td>f</td>\n",
       "      <td>1.750</td>\n",
       "      <td>a</td>\n",
       "      <td>t</td>\n",
       "      <td>80.0</td>\n",
       "      <td>0.000054</td>\n",
       "      <td>1.0</td>\n",
       "      <td>...</td>\n",
       "      <td>2.82</td>\n",
       "      <td>t</td>\n",
       "      <td>c</td>\n",
       "      <td>800000.0</td>\n",
       "      <td>5.0</td>\n",
       "      <td>g</td>\n",
       "      <td>0.0</td>\n",
       "      <td>f</td>\n",
       "      <td>f</td>\n",
       "      <td>no.</td>\n",
       "    </tr>\n",
       "    <tr>\n",
       "      <th>1</th>\n",
       "      <td>v</td>\n",
       "      <td>s</td>\n",
       "      <td>16.92</td>\n",
       "      <td>f</td>\n",
       "      <td>0.290</td>\n",
       "      <td>b</td>\n",
       "      <td>f</td>\n",
       "      <td>200.0</td>\n",
       "      <td>0.000034</td>\n",
       "      <td>0.0</td>\n",
       "      <td>...</td>\n",
       "      <td>3.45</td>\n",
       "      <td>f</td>\n",
       "      <td>k</td>\n",
       "      <td>2000000.0</td>\n",
       "      <td>0.0</td>\n",
       "      <td>p</td>\n",
       "      <td>1.0</td>\n",
       "      <td>f</td>\n",
       "      <td>f</td>\n",
       "      <td>no.</td>\n",
       "    </tr>\n",
       "    <tr>\n",
       "      <th>2</th>\n",
       "      <td>ff</td>\n",
       "      <td>g</td>\n",
       "      <td>31.25</td>\n",
       "      <td>f</td>\n",
       "      <td>0.000</td>\n",
       "      <td>b</td>\n",
       "      <td>t</td>\n",
       "      <td>96.0</td>\n",
       "      <td>0.000112</td>\n",
       "      <td>1.0</td>\n",
       "      <td>...</td>\n",
       "      <td>3.24</td>\n",
       "      <td>f</td>\n",
       "      <td>ff</td>\n",
       "      <td>960000.0</td>\n",
       "      <td>19.0</td>\n",
       "      <td>g</td>\n",
       "      <td>0.0</td>\n",
       "      <td>f</td>\n",
       "      <td>f</td>\n",
       "      <td>no.</td>\n",
       "    </tr>\n",
       "    <tr>\n",
       "      <th>3</th>\n",
       "      <td>o</td>\n",
       "      <td>g</td>\n",
       "      <td>48.17</td>\n",
       "      <td>f</td>\n",
       "      <td>0.335</td>\n",
       "      <td>a</td>\n",
       "      <td>f</td>\n",
       "      <td>0.0</td>\n",
       "      <td>0.000133</td>\n",
       "      <td>0.0</td>\n",
       "      <td>...</td>\n",
       "      <td>4.21</td>\n",
       "      <td>f</td>\n",
       "      <td>i</td>\n",
       "      <td>0.0</td>\n",
       "      <td>120.0</td>\n",
       "      <td>g</td>\n",
       "      <td>1.0</td>\n",
       "      <td>f</td>\n",
       "      <td>f</td>\n",
       "      <td>no.</td>\n",
       "    </tr>\n",
       "    <tr>\n",
       "      <th>4</th>\n",
       "      <td>v</td>\n",
       "      <td>g</td>\n",
       "      <td>32.33</td>\n",
       "      <td>t</td>\n",
       "      <td>0.500</td>\n",
       "      <td>b</td>\n",
       "      <td>f</td>\n",
       "      <td>232.0</td>\n",
       "      <td>0.000350</td>\n",
       "      <td>0.0</td>\n",
       "      <td>...</td>\n",
       "      <td>3.44</td>\n",
       "      <td>t</td>\n",
       "      <td>k</td>\n",
       "      <td>2320000.0</td>\n",
       "      <td>0.0</td>\n",
       "      <td>g</td>\n",
       "      <td>1.0</td>\n",
       "      <td>f</td>\n",
       "      <td>f</td>\n",
       "      <td>no.</td>\n",
       "    </tr>\n",
       "  </tbody>\n",
       "</table>\n",
       "<p>5 rows × 21 columns</p>\n",
       "</div>"
      ],
      "text/plain": [
       "  v33 v76    v12 v68    v50 v7 v70    v55       v20  v24    ...       v97  \\\n",
       "0   v   g  17.92   f  1.750  a   t   80.0  0.000054  1.0    ...      2.82   \n",
       "1   v   s  16.92   f  0.290  b   f  200.0  0.000034  0.0    ...      3.45   \n",
       "2  ff   g  31.25   f  0.000  b   t   96.0  0.000112  1.0    ...      3.24   \n",
       "3   o   g  48.17   f  0.335  a   f    0.0  0.000133  0.0    ...      4.21   \n",
       "4   v   g  32.33   t  0.500  b   f  232.0  0.000350  0.0    ...      3.44   \n",
       "\n",
       "   v28 v99        v42    v53  v85   v9  v84 v44 classlabel  \n",
       "0    t   c   800000.0    5.0    g  0.0    f   f        no.  \n",
       "1    f   k  2000000.0    0.0    p  1.0    f   f        no.  \n",
       "2    f  ff   960000.0   19.0    g  0.0    f   f        no.  \n",
       "3    f   i        0.0  120.0    g  1.0    f   f        no.  \n",
       "4    t   k  2320000.0    0.0    g  1.0    f   f        no.  \n",
       "\n",
       "[5 rows x 21 columns]"
      ]
     },
     "execution_count": 14,
     "metadata": {},
     "output_type": "execute_result"
    }
   ],
   "source": [
    "df_train.head()"
   ]
  },
  {
   "cell_type": "code",
   "execution_count": 15,
   "metadata": {},
   "outputs": [
    {
     "data": {
      "text/plain": [
       "Index([u'v33', u'v76', u'v68', u'v7', u'v70', u'v32', u'v28', u'v99', u'v85',\n",
       "       u'v84', u'v44', u'classlabel'],\n",
       "      dtype='object')"
      ]
     },
     "execution_count": 15,
     "metadata": {},
     "output_type": "execute_result"
    }
   ],
   "source": [
    "\n",
    "categorical = df_train.dtypes[df_train.dtypes == \"object\"].index\n",
    "categorical"
   ]
  },
  {
   "cell_type": "code",
   "execution_count": 16,
   "metadata": {},
   "outputs": [
    {
     "data": {
      "text/html": [
       "<div>\n",
       "<style>\n",
       "    .dataframe thead tr:only-child th {\n",
       "        text-align: right;\n",
       "    }\n",
       "\n",
       "    .dataframe thead th {\n",
       "        text-align: left;\n",
       "    }\n",
       "\n",
       "    .dataframe tbody tr th {\n",
       "        vertical-align: top;\n",
       "    }\n",
       "</style>\n",
       "<table border=\"1\" class=\"dataframe\">\n",
       "  <thead>\n",
       "    <tr style=\"text-align: right;\">\n",
       "      <th></th>\n",
       "      <th>v33</th>\n",
       "      <th>v76</th>\n",
       "      <th>v12</th>\n",
       "      <th>v68</th>\n",
       "      <th>v50</th>\n",
       "      <th>v7</th>\n",
       "      <th>v70</th>\n",
       "      <th>v55</th>\n",
       "      <th>v20</th>\n",
       "      <th>v24</th>\n",
       "      <th>...</th>\n",
       "      <th>v97</th>\n",
       "      <th>v28</th>\n",
       "      <th>v99</th>\n",
       "      <th>v42</th>\n",
       "      <th>v53</th>\n",
       "      <th>v85</th>\n",
       "      <th>v9</th>\n",
       "      <th>v84</th>\n",
       "      <th>v44</th>\n",
       "      <th>classlabel</th>\n",
       "    </tr>\n",
       "  </thead>\n",
       "  <tbody>\n",
       "    <tr>\n",
       "      <th>0</th>\n",
       "      <td>7</td>\n",
       "      <td>0</td>\n",
       "      <td>17.92</td>\n",
       "      <td>0</td>\n",
       "      <td>1.750</td>\n",
       "      <td>0</td>\n",
       "      <td>1</td>\n",
       "      <td>80.0</td>\n",
       "      <td>0.000054</td>\n",
       "      <td>1.0</td>\n",
       "      <td>...</td>\n",
       "      <td>2.82</td>\n",
       "      <td>1</td>\n",
       "      <td>2</td>\n",
       "      <td>800000.0</td>\n",
       "      <td>5.0</td>\n",
       "      <td>0</td>\n",
       "      <td>0.0</td>\n",
       "      <td>0</td>\n",
       "      <td>0</td>\n",
       "      <td>0</td>\n",
       "    </tr>\n",
       "    <tr>\n",
       "      <th>1</th>\n",
       "      <td>7</td>\n",
       "      <td>2</td>\n",
       "      <td>16.92</td>\n",
       "      <td>0</td>\n",
       "      <td>0.290</td>\n",
       "      <td>1</td>\n",
       "      <td>0</td>\n",
       "      <td>200.0</td>\n",
       "      <td>0.000034</td>\n",
       "      <td>0.0</td>\n",
       "      <td>...</td>\n",
       "      <td>3.45</td>\n",
       "      <td>0</td>\n",
       "      <td>9</td>\n",
       "      <td>2000000.0</td>\n",
       "      <td>0.0</td>\n",
       "      <td>2</td>\n",
       "      <td>1.0</td>\n",
       "      <td>0</td>\n",
       "      <td>0</td>\n",
       "      <td>0</td>\n",
       "    </tr>\n",
       "    <tr>\n",
       "      <th>2</th>\n",
       "      <td>2</td>\n",
       "      <td>0</td>\n",
       "      <td>31.25</td>\n",
       "      <td>0</td>\n",
       "      <td>0.000</td>\n",
       "      <td>1</td>\n",
       "      <td>1</td>\n",
       "      <td>96.0</td>\n",
       "      <td>0.000112</td>\n",
       "      <td>1.0</td>\n",
       "      <td>...</td>\n",
       "      <td>3.24</td>\n",
       "      <td>0</td>\n",
       "      <td>6</td>\n",
       "      <td>960000.0</td>\n",
       "      <td>19.0</td>\n",
       "      <td>0</td>\n",
       "      <td>0.0</td>\n",
       "      <td>0</td>\n",
       "      <td>0</td>\n",
       "      <td>0</td>\n",
       "    </tr>\n",
       "    <tr>\n",
       "      <th>3</th>\n",
       "      <td>6</td>\n",
       "      <td>0</td>\n",
       "      <td>48.17</td>\n",
       "      <td>0</td>\n",
       "      <td>0.335</td>\n",
       "      <td>0</td>\n",
       "      <td>0</td>\n",
       "      <td>0.0</td>\n",
       "      <td>0.000133</td>\n",
       "      <td>0.0</td>\n",
       "      <td>...</td>\n",
       "      <td>4.21</td>\n",
       "      <td>0</td>\n",
       "      <td>7</td>\n",
       "      <td>0.0</td>\n",
       "      <td>120.0</td>\n",
       "      <td>0</td>\n",
       "      <td>1.0</td>\n",
       "      <td>0</td>\n",
       "      <td>0</td>\n",
       "      <td>0</td>\n",
       "    </tr>\n",
       "    <tr>\n",
       "      <th>4</th>\n",
       "      <td>7</td>\n",
       "      <td>0</td>\n",
       "      <td>32.33</td>\n",
       "      <td>1</td>\n",
       "      <td>0.500</td>\n",
       "      <td>1</td>\n",
       "      <td>0</td>\n",
       "      <td>232.0</td>\n",
       "      <td>0.000350</td>\n",
       "      <td>0.0</td>\n",
       "      <td>...</td>\n",
       "      <td>3.44</td>\n",
       "      <td>1</td>\n",
       "      <td>9</td>\n",
       "      <td>2320000.0</td>\n",
       "      <td>0.0</td>\n",
       "      <td>0</td>\n",
       "      <td>1.0</td>\n",
       "      <td>0</td>\n",
       "      <td>0</td>\n",
       "      <td>0</td>\n",
       "    </tr>\n",
       "  </tbody>\n",
       "</table>\n",
       "<p>5 rows × 21 columns</p>\n",
       "</div>"
      ],
      "text/plain": [
       "   v33  v76    v12  v68    v50  v7  v70    v55       v20  v24     ...      \\\n",
       "0    7    0  17.92    0  1.750   0    1   80.0  0.000054  1.0     ...       \n",
       "1    7    2  16.92    0  0.290   1    0  200.0  0.000034  0.0     ...       \n",
       "2    2    0  31.25    0  0.000   1    1   96.0  0.000112  1.0     ...       \n",
       "3    6    0  48.17    0  0.335   0    0    0.0  0.000133  0.0     ...       \n",
       "4    7    0  32.33    1  0.500   1    0  232.0  0.000350  0.0     ...       \n",
       "\n",
       "    v97  v28  v99        v42    v53  v85   v9  v84  v44  classlabel  \n",
       "0  2.82    1    2   800000.0    5.0    0  0.0    0    0           0  \n",
       "1  3.45    0    9  2000000.0    0.0    2  1.0    0    0           0  \n",
       "2  3.24    0    6   960000.0   19.0    0  0.0    0    0           0  \n",
       "3  4.21    0    7        0.0  120.0    0  1.0    0    0           0  \n",
       "4  3.44    1    9  2320000.0    0.0    0  1.0    0    0           0  \n",
       "\n",
       "[5 rows x 21 columns]"
      ]
     },
     "execution_count": 16,
     "metadata": {},
     "output_type": "execute_result"
    }
   ],
   "source": [
    "df_train_cpy = df_train.copy()\n",
    "df_test_cpy = df_test.copy()\n",
    "for c in categorical:\n",
    "    df_train_cpy[c] = df_train_cpy[c].astype('category')\n",
    "    df_test_cpy[c] = df_test_cpy[c].astype('category')\n",
    "    df_train_cpy[c] = df_train_cpy[c].cat.codes\n",
    "    df_test_cpy[c] = df_test_cpy[c].cat.codes\n",
    "df_train_cpy.head()"
   ]
  },
  {
   "cell_type": "code",
   "execution_count": 17,
   "metadata": {},
   "outputs": [
    {
     "data": {
      "text/html": [
       "<div>\n",
       "<style>\n",
       "    .dataframe thead tr:only-child th {\n",
       "        text-align: right;\n",
       "    }\n",
       "\n",
       "    .dataframe thead th {\n",
       "        text-align: left;\n",
       "    }\n",
       "\n",
       "    .dataframe tbody tr th {\n",
       "        vertical-align: top;\n",
       "    }\n",
       "</style>\n",
       "<table border=\"1\" class=\"dataframe\">\n",
       "  <thead>\n",
       "    <tr style=\"text-align: right;\">\n",
       "      <th></th>\n",
       "      <th>v33</th>\n",
       "      <th>v76</th>\n",
       "      <th>v12</th>\n",
       "      <th>v68</th>\n",
       "      <th>v50</th>\n",
       "      <th>v7</th>\n",
       "      <th>v70</th>\n",
       "      <th>v55</th>\n",
       "      <th>v20</th>\n",
       "      <th>v24</th>\n",
       "      <th>...</th>\n",
       "      <th>v97</th>\n",
       "      <th>v28</th>\n",
       "      <th>v99</th>\n",
       "      <th>v42</th>\n",
       "      <th>v53</th>\n",
       "      <th>v85</th>\n",
       "      <th>v9</th>\n",
       "      <th>v84</th>\n",
       "      <th>v44</th>\n",
       "      <th>classlabel</th>\n",
       "    </tr>\n",
       "  </thead>\n",
       "  <tbody>\n",
       "    <tr>\n",
       "      <th>0</th>\n",
       "      <td>0</td>\n",
       "      <td>2</td>\n",
       "      <td>32.33</td>\n",
       "      <td>1</td>\n",
       "      <td>1.585</td>\n",
       "      <td>1</td>\n",
       "      <td>0</td>\n",
       "      <td>420.0</td>\n",
       "      <td>0.000750</td>\n",
       "      <td>0.0</td>\n",
       "      <td>...</td>\n",
       "      <td>4.33</td>\n",
       "      <td>1</td>\n",
       "      <td>5</td>\n",
       "      <td>4200000.0</td>\n",
       "      <td>0.0</td>\n",
       "      <td>0</td>\n",
       "      <td>1.0</td>\n",
       "      <td>0</td>\n",
       "      <td>1</td>\n",
       "      <td>0</td>\n",
       "    </tr>\n",
       "    <tr>\n",
       "      <th>1</th>\n",
       "      <td>6</td>\n",
       "      <td>0</td>\n",
       "      <td>23.58</td>\n",
       "      <td>0</td>\n",
       "      <td>0.540</td>\n",
       "      <td>1</td>\n",
       "      <td>0</td>\n",
       "      <td>136.0</td>\n",
       "      <td>0.000179</td>\n",
       "      <td>0.0</td>\n",
       "      <td>...</td>\n",
       "      <td>4.37</td>\n",
       "      <td>1</td>\n",
       "      <td>2</td>\n",
       "      <td>1360000.0</td>\n",
       "      <td>1.0</td>\n",
       "      <td>0</td>\n",
       "      <td>0.0</td>\n",
       "      <td>0</td>\n",
       "      <td>0</td>\n",
       "      <td>0</td>\n",
       "    </tr>\n",
       "    <tr>\n",
       "      <th>2</th>\n",
       "      <td>6</td>\n",
       "      <td>0</td>\n",
       "      <td>36.42</td>\n",
       "      <td>1</td>\n",
       "      <td>0.585</td>\n",
       "      <td>1</td>\n",
       "      <td>0</td>\n",
       "      <td>240.0</td>\n",
       "      <td>0.000075</td>\n",
       "      <td>0.0</td>\n",
       "      <td>...</td>\n",
       "      <td>3.79</td>\n",
       "      <td>0</td>\n",
       "      <td>4</td>\n",
       "      <td>2400000.0</td>\n",
       "      <td>3.0</td>\n",
       "      <td>1</td>\n",
       "      <td>1.0</td>\n",
       "      <td>0</td>\n",
       "      <td>0</td>\n",
       "      <td>0</td>\n",
       "    </tr>\n",
       "    <tr>\n",
       "      <th>3</th>\n",
       "      <td>6</td>\n",
       "      <td>0</td>\n",
       "      <td>18.42</td>\n",
       "      <td>0</td>\n",
       "      <td>0.125</td>\n",
       "      <td>1</td>\n",
       "      <td>0</td>\n",
       "      <td>120.0</td>\n",
       "      <td>0.001042</td>\n",
       "      <td>0.0</td>\n",
       "      <td>...</td>\n",
       "      <td>3.61</td>\n",
       "      <td>0</td>\n",
       "      <td>1</td>\n",
       "      <td>1200000.0</td>\n",
       "      <td>375.0</td>\n",
       "      <td>1</td>\n",
       "      <td>0.0</td>\n",
       "      <td>1</td>\n",
       "      <td>0</td>\n",
       "      <td>0</td>\n",
       "    </tr>\n",
       "    <tr>\n",
       "      <th>4</th>\n",
       "      <td>6</td>\n",
       "      <td>0</td>\n",
       "      <td>24.50</td>\n",
       "      <td>1</td>\n",
       "      <td>0.040</td>\n",
       "      <td>1</td>\n",
       "      <td>0</td>\n",
       "      <td>120.0</td>\n",
       "      <td>0.001334</td>\n",
       "      <td>0.0</td>\n",
       "      <td>...</td>\n",
       "      <td>3.68</td>\n",
       "      <td>1</td>\n",
       "      <td>1</td>\n",
       "      <td>1200000.0</td>\n",
       "      <td>475.0</td>\n",
       "      <td>1</td>\n",
       "      <td>0.0</td>\n",
       "      <td>0</td>\n",
       "      <td>0</td>\n",
       "      <td>0</td>\n",
       "    </tr>\n",
       "  </tbody>\n",
       "</table>\n",
       "<p>5 rows × 21 columns</p>\n",
       "</div>"
      ],
      "text/plain": [
       "   v33  v76    v12  v68    v50  v7  v70    v55       v20  v24     ...      \\\n",
       "0    0    2  32.33    1  1.585   1    0  420.0  0.000750  0.0     ...       \n",
       "1    6    0  23.58    0  0.540   1    0  136.0  0.000179  0.0     ...       \n",
       "2    6    0  36.42    1  0.585   1    0  240.0  0.000075  0.0     ...       \n",
       "3    6    0  18.42    0  0.125   1    0  120.0  0.001042  0.0     ...       \n",
       "4    6    0  24.50    1  0.040   1    0  120.0  0.001334  0.0     ...       \n",
       "\n",
       "    v97  v28  v99        v42    v53  v85   v9  v84  v44  classlabel  \n",
       "0  4.33    1    5  4200000.0    0.0    0  1.0    0    1           0  \n",
       "1  4.37    1    2  1360000.0    1.0    0  0.0    0    0           0  \n",
       "2  3.79    0    4  2400000.0    3.0    1  1.0    0    0           0  \n",
       "3  3.61    0    1  1200000.0  375.0    1  0.0    1    0           0  \n",
       "4  3.68    1    1  1200000.0  475.0    1  0.0    0    0           0  \n",
       "\n",
       "[5 rows x 21 columns]"
      ]
     },
     "execution_count": 17,
     "metadata": {},
     "output_type": "execute_result"
    }
   ],
   "source": [
    "df_test_cpy.head()"
   ]
  },
  {
   "cell_type": "code",
   "execution_count": 18,
   "metadata": {},
   "outputs": [
    {
     "data": {
      "text/plain": [
       "((3700, 20), (3700,), (200, 20), (200,))"
      ]
     },
     "execution_count": 18,
     "metadata": {},
     "output_type": "execute_result"
    }
   ],
   "source": [
    "X_train = df_train_cpy.drop(\"classlabel\", axis=1)\n",
    "Y_train = df_train_cpy[\"classlabel\"]\n",
    "X_test  = df_test_cpy.drop(\"classlabel\", axis=1)\n",
    "Y_test = df_test_cpy[\"classlabel\"]\n",
    "X_train.shape, Y_train.shape, X_test.shape, Y_test.shape\n"
   ]
  },
  {
   "cell_type": "code",
   "execution_count": 19,
   "metadata": {},
   "outputs": [
    {
     "data": {
      "text/plain": [
       "46.5"
      ]
     },
     "execution_count": 19,
     "metadata": {},
     "output_type": "execute_result"
    }
   ],
   "source": [
    "# Logistic Regression\n",
    "\n",
    "logreg = LogisticRegression()\n",
    "logreg.fit(X_train, Y_train)\n",
    "Y_pred = logreg.predict(X_test)\n",
    "acc_log = round(accuracy_score(Y_test,Y_pred) * 100, 2)\n",
    "acc_log"
   ]
  },
  {
   "cell_type": "code",
   "execution_count": 20,
   "metadata": {},
   "outputs": [
    {
     "data": {
      "text/plain": [
       "59.0"
      ]
     },
     "execution_count": 20,
     "metadata": {},
     "output_type": "execute_result"
    }
   ],
   "source": [
    "# Support Vector Machines\n",
    "\n",
    "svc = SVC()\n",
    "svc.fit(X_train, Y_train)\n",
    "Y_pred = svc.predict(X_test)\n",
    "acc_svc = round(accuracy_score(Y_test,Y_pred) * 100, 2)\n",
    "acc_svc"
   ]
  },
  {
   "cell_type": "code",
   "execution_count": 21,
   "metadata": {},
   "outputs": [
    {
     "data": {
      "text/plain": [
       "64.5"
      ]
     },
     "execution_count": 21,
     "metadata": {},
     "output_type": "execute_result"
    }
   ],
   "source": [
    "knn = KNeighborsClassifier(n_neighbors = 3)\n",
    "knn.fit(X_train, Y_train)\n",
    "Y_pred = knn.predict(X_test)\n",
    "acc_knn = round(accuracy_score(Y_test,Y_pred) * 100, 2)\n",
    "acc_knn"
   ]
  },
  {
   "cell_type": "code",
   "execution_count": 22,
   "metadata": {},
   "outputs": [
    {
     "data": {
      "text/plain": [
       "69.0"
      ]
     },
     "execution_count": 22,
     "metadata": {},
     "output_type": "execute_result"
    }
   ],
   "source": [
    "# Gaussian Naive Bayes\n",
    "\n",
    "gaussian = GaussianNB()\n",
    "gaussian.fit(X_train, Y_train)\n",
    "Y_pred = gaussian.predict(X_test)\n",
    "acc_gaussian = round(accuracy_score(Y_test,Y_pred) * 100, 2)\n",
    "acc_gaussian"
   ]
  },
  {
   "cell_type": "code",
   "execution_count": 23,
   "metadata": {},
   "outputs": [
    {
     "name": "stderr",
     "output_type": "stream",
     "text": [
      "/Library/Python/2.7/site-packages/sklearn/linear_model/stochastic_gradient.py:84: FutureWarning: max_iter and tol parameters have been added in <class 'sklearn.linear_model.perceptron.Perceptron'> in 0.19. If both are left unset, they default to max_iter=5 and tol=None. If tol is not None, max_iter defaults to max_iter=1000. From 0.21, default max_iter will be 1000, and default tol will be 1e-3.\n",
      "  \"and default tol will be 1e-3.\" % type(self), FutureWarning)\n"
     ]
    },
    {
     "data": {
      "text/plain": [
       "45.5"
      ]
     },
     "execution_count": 23,
     "metadata": {},
     "output_type": "execute_result"
    }
   ],
   "source": [
    "# Perceptron\n",
    "\n",
    "perceptron = Perceptron()\n",
    "perceptron.fit(X_train, Y_train)\n",
    "Y_pred = perceptron.predict(X_test)\n",
    "acc_perceptron = round(accuracy_score(Y_test,Y_pred) * 100, 2)\n",
    "acc_perceptron"
   ]
  },
  {
   "cell_type": "code",
   "execution_count": 24,
   "metadata": {},
   "outputs": [
    {
     "data": {
      "text/plain": [
       "39.5"
      ]
     },
     "execution_count": 24,
     "metadata": {},
     "output_type": "execute_result"
    }
   ],
   "source": [
    "# Linear SVC\n",
    "\n",
    "linear_svc = LinearSVC()\n",
    "linear_svc.fit(X_train, Y_train)\n",
    "Y_pred = linear_svc.predict(X_test)\n",
    "acc_linear_svc = round(accuracy_score(Y_test,Y_pred) * 100, 2)\n",
    "acc_linear_svc"
   ]
  },
  {
   "cell_type": "code",
   "execution_count": 25,
   "metadata": {},
   "outputs": [
    {
     "name": "stderr",
     "output_type": "stream",
     "text": [
      "/Library/Python/2.7/site-packages/sklearn/linear_model/stochastic_gradient.py:84: FutureWarning: max_iter and tol parameters have been added in <class 'sklearn.linear_model.stochastic_gradient.SGDClassifier'> in 0.19. If both are left unset, they default to max_iter=5 and tol=None. If tol is not None, max_iter defaults to max_iter=1000. From 0.21, default max_iter will be 1000, and default tol will be 1e-3.\n",
      "  \"and default tol will be 1e-3.\" % type(self), FutureWarning)\n"
     ]
    },
    {
     "data": {
      "text/plain": [
       "46.5"
      ]
     },
     "execution_count": 25,
     "metadata": {},
     "output_type": "execute_result"
    }
   ],
   "source": [
    "# Stochastic Gradient Descent\n",
    "\n",
    "sgd = SGDClassifier()\n",
    "sgd.fit(X_train, Y_train)\n",
    "Y_pred = sgd.predict(X_test)\n",
    "acc_sgd = round(accuracy_score(Y_test,Y_pred) * 100, 2)\n",
    "acc_sgd"
   ]
  },
  {
   "cell_type": "code",
   "execution_count": 26,
   "metadata": {},
   "outputs": [
    {
     "data": {
      "text/plain": [
       "51.0"
      ]
     },
     "execution_count": 26,
     "metadata": {},
     "output_type": "execute_result"
    }
   ],
   "source": [
    "# Decision Tree\n",
    "\n",
    "decision_tree = DecisionTreeClassifier()\n",
    "decision_tree.fit(X_train, Y_train)\n",
    "Y_pred = decision_tree.predict(X_test)\n",
    "acc_decision_tree = round(accuracy_score(Y_test,Y_pred) * 100, 2)\n",
    "acc_decision_tree"
   ]
  },
  {
   "cell_type": "code",
   "execution_count": 27,
   "metadata": {},
   "outputs": [
    {
     "data": {
      "text/plain": [
       "51.5"
      ]
     },
     "execution_count": 27,
     "metadata": {},
     "output_type": "execute_result"
    }
   ],
   "source": [
    "# Random Forest\n",
    "\n",
    "random_forest = RandomForestClassifier(n_estimators=100)\n",
    "random_forest.fit(X_train, Y_train)\n",
    "Y_pred = random_forest.predict(X_test)\n",
    "random_forest.score(X_train, Y_train)\n",
    "acc_random_forest = round(accuracy_score(Y_test,Y_pred) * 100, 2)\n",
    "acc_random_forest"
   ]
  },
  {
   "cell_type": "code",
   "execution_count": 28,
   "metadata": {},
   "outputs": [
    {
     "data": {
      "text/html": [
       "<div>\n",
       "<style>\n",
       "    .dataframe thead tr:only-child th {\n",
       "        text-align: right;\n",
       "    }\n",
       "\n",
       "    .dataframe thead th {\n",
       "        text-align: left;\n",
       "    }\n",
       "\n",
       "    .dataframe tbody tr th {\n",
       "        vertical-align: top;\n",
       "    }\n",
       "</style>\n",
       "<table border=\"1\" class=\"dataframe\">\n",
       "  <thead>\n",
       "    <tr style=\"text-align: right;\">\n",
       "      <th></th>\n",
       "      <th>Model</th>\n",
       "      <th>Score</th>\n",
       "    </tr>\n",
       "  </thead>\n",
       "  <tbody>\n",
       "    <tr>\n",
       "      <th>4</th>\n",
       "      <td>Naive Bayes</td>\n",
       "      <td>69.0</td>\n",
       "    </tr>\n",
       "    <tr>\n",
       "      <th>1</th>\n",
       "      <td>KNN</td>\n",
       "      <td>64.5</td>\n",
       "    </tr>\n",
       "    <tr>\n",
       "      <th>0</th>\n",
       "      <td>Support Vector Machines</td>\n",
       "      <td>59.0</td>\n",
       "    </tr>\n",
       "    <tr>\n",
       "      <th>3</th>\n",
       "      <td>Random Forest</td>\n",
       "      <td>51.5</td>\n",
       "    </tr>\n",
       "    <tr>\n",
       "      <th>8</th>\n",
       "      <td>Decision Tree</td>\n",
       "      <td>51.0</td>\n",
       "    </tr>\n",
       "    <tr>\n",
       "      <th>2</th>\n",
       "      <td>Logistic Regression</td>\n",
       "      <td>46.5</td>\n",
       "    </tr>\n",
       "    <tr>\n",
       "      <th>6</th>\n",
       "      <td>Stochastic Gradient Decent</td>\n",
       "      <td>46.5</td>\n",
       "    </tr>\n",
       "    <tr>\n",
       "      <th>5</th>\n",
       "      <td>Perceptron</td>\n",
       "      <td>45.5</td>\n",
       "    </tr>\n",
       "    <tr>\n",
       "      <th>7</th>\n",
       "      <td>Linear SVC</td>\n",
       "      <td>39.5</td>\n",
       "    </tr>\n",
       "  </tbody>\n",
       "</table>\n",
       "</div>"
      ],
      "text/plain": [
       "                        Model  Score\n",
       "4                 Naive Bayes   69.0\n",
       "1                         KNN   64.5\n",
       "0     Support Vector Machines   59.0\n",
       "3               Random Forest   51.5\n",
       "8               Decision Tree   51.0\n",
       "2         Logistic Regression   46.5\n",
       "6  Stochastic Gradient Decent   46.5\n",
       "5                  Perceptron   45.5\n",
       "7                  Linear SVC   39.5"
      ]
     },
     "execution_count": 28,
     "metadata": {},
     "output_type": "execute_result"
    }
   ],
   "source": [
    "models = pd.DataFrame({\n",
    "    'Model': ['Support Vector Machines', 'KNN', 'Logistic Regression', \n",
    "              'Random Forest', 'Naive Bayes', 'Perceptron', \n",
    "              'Stochastic Gradient Decent', 'Linear SVC', \n",
    "              'Decision Tree'],\n",
    "    'Score': [acc_svc, acc_knn, acc_log, \n",
    "              acc_random_forest, acc_gaussian, acc_perceptron, \n",
    "              acc_sgd, acc_linear_svc, acc_decision_tree]})\n",
    "models.sort_values(by='Score', ascending=False)"
   ]
  },
  {
   "cell_type": "code",
   "execution_count": 29,
   "metadata": {},
   "outputs": [
    {
     "data": {
      "text/plain": [
       "<matplotlib.axes._subplots.AxesSubplot at 0x108b16b90>"
      ]
     },
     "execution_count": 29,
     "metadata": {},
     "output_type": "execute_result"
    },
    {
     "data": {
      "image/png": "[encoded data removed]",
      "text/plain": [
       "<matplotlib.figure.Figure at 0x1080e6910>"
      ]
     },
     "metadata": {},
     "output_type": "display_data"
    }
   ],
   "source": [
    "sns.barplot(x='Score', y='Model', data=models)"
   ]
  },
  {
   "cell_type": "code",
   "execution_count": 30,
   "metadata": {},
   "outputs": [],
   "source": [
    "scaler = StandardScaler()\n",
    "\n",
    "scaler.fit(X_train)\n",
    "\n",
    "X_train = scaler.transform(X_train)\n",
    "\n",
    "pca = PCA(0.95)\n",
    "\n",
    "pca.fit(X_train)\n",
    "\n",
    "pca.n_components_\n",
    "\n",
    "X_train = pca.transform(X_train)\n",
    "\n",
    "X_train = pd.DataFrame(X_train)"
   ]
  },
  {
   "cell_type": "code",
   "execution_count": 31,
   "metadata": {},
   "outputs": [],
   "source": [
    "scaler = StandardScaler()\n",
    "\n",
    "scaler.fit(X_test)\n",
    "\n",
    "X_test = scaler.transform(X_test)\n",
    "\n",
    "pca = PCA(0.95)\n",
    "\n",
    "pca.fit(X_test)\n",
    "\n",
    "pca.n_components_\n",
    "\n",
    "X_test = pca.transform(X_test)\n",
    "\n",
    "X_test= pd.DataFrame(X_test)"
   ]
  },
  {
   "cell_type": "code",
   "execution_count": 32,
   "metadata": {},
   "outputs": [
    {
     "data": {
      "text/plain": [
       "48.5"
      ]
     },
     "execution_count": 32,
     "metadata": {},
     "output_type": "execute_result"
    }
   ],
   "source": [
    "knn = KNeighborsClassifier(n_neighbors = 3)\n",
    "knn.fit(X_train, Y_train)\n",
    "Y_pred = knn.predict(X_test)\n",
    "acc_knn = round(accuracy_score(Y_test,Y_pred) * 100, 2)\n",
    "acc_knn"
   ]
  },
  {
   "cell_type": "code",
   "execution_count": 33,
   "metadata": {},
   "outputs": [
    {
     "data": {
      "text/plain": [
       "49.0"
      ]
     },
     "execution_count": 33,
     "metadata": {},
     "output_type": "execute_result"
    }
   ],
   "source": [
    "# Decision Tree\n",
    "\n",
    "decision_tree = DecisionTreeClassifier()\n",
    "decision_tree.fit(X_train, Y_train)\n",
    "Y_pred = decision_tree.predict(X_test)\n",
    "acc_decision_tree = round(accuracy_score(Y_test,Y_pred) * 100, 2)\n",
    "acc_decision_tree"
   ]
  },
  {
   "cell_type": "code",
   "execution_count": 34,
   "metadata": {},
   "outputs": [
    {
     "data": {
      "text/plain": [
       "49.0"
      ]
     },
     "execution_count": 34,
     "metadata": {},
     "output_type": "execute_result"
    }
   ],
   "source": [
    "# Random Forest\n",
    "\n",
    "random_forest = RandomForestClassifier(n_estimators=100)\n",
    "random_forest.fit(X_train, Y_train)\n",
    "Y_pred = random_forest.predict(X_test)\n",
    "acc_random_forest = round(accuracy_score(Y_test,Y_pred) * 100, 2)\n",
    "acc_random_forest"
   ]
  },
  {
   "cell_type": "code",
   "execution_count": 43,
   "metadata": {},
   "outputs": [],
   "source": [
    "# creating odd list of K for KNN\n",
    "neighbors = filter(lambda x: x % 2 != 0, list(range(1,50)))\n",
    "# empty list that will hold cv scores\n",
    "cv_scores = {}\n",
    "\n",
    "# perform 10-fold cross validation\n",
    "for k in neighbors:\n",
    "    knn = KNeighborsClassifier(n_neighbors=k)\n",
    "    scores = cross_val_score(knn, X_train, Y_train, cv=10, scoring='accuracy')\n",
    "    cv_scores[k] = scores.mean()"
   ]
  },
  {
   "cell_type": "code",
   "execution_count": 48,
   "metadata": {},
   "outputs": [
    {
     "data": {
      "text/plain": [
       "3"
      ]
     },
     "execution_count": 48,
     "metadata": {},
     "output_type": "execute_result"
    }
   ],
   "source": [
    "bess_k = max(cv_scores, key=lambda k: cv_scores[k])\n",
    "bess_k"
   ]
  },
  {
   "cell_type": "code",
   "execution_count": 49,
   "metadata": {},
   "outputs": [
    {
     "data": {
      "text/plain": [
       "49.0"
      ]
     },
     "execution_count": 49,
     "metadata": {},
     "output_type": "execute_result"
    }
   ],
   "source": [
    "# instantiate learning model (k = 3)\n",
    "knn = KNeighborsClassifier(n_neighbors=bess_k)\n",
    "\n",
    "# fitting the model\n",
    "knn.fit(X_train, Y_train)\n",
    "\n",
    "# predict the response\n",
    "pred = knn.predict(X_test)\n",
    "\n",
    "# evaluate accuracy\n",
    "acc_knn = round(accuracy_score(Y_test,Y_pred) * 100, 2)\n",
    "acc_knn"
   ]
  },
  {
   "cell_type": "code",
   "execution_count": null,
   "metadata": {},
   "outputs": [],
   "source": []
  }
 ],
 "metadata": {
  "kernelspec": {
   "display_name": "Python 2",
   "language": "python",
   "name": "python2"
  },
  "language_info": {
   "codemirror_mode": {
    "name": "ipython",
    "version": 2
   },
   "file_extension": ".py",
   "mimetype": "text/x-python",
   "name": "python",
   "nbconvert_exporter": "python",
   "pygments_lexer": "ipython2",
   "version": "2.7.10"
  }
 },
 "nbformat": 4,
 "nbformat_minor": 2
}
